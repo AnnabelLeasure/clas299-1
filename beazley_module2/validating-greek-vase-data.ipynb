{
 "cells": [
  {
   "cell_type": "code",
   "execution_count": 1,
   "metadata": {},
   "outputs": [
    {
     "data": {
      "text/plain": [
       "\u001b[32mimport \u001b[39m\u001b[36mscala.io.Source\n",
       "\u001b[39m\n",
       "\u001b[36mvaseCex\u001b[39m: \u001b[32mString\u001b[39m = \u001b[32m\"https://raw.githubusercontent.com/nadimattia/clas299/master/greek_vase_painters.cex\"\u001b[39m"
      ]
     },
     "execution_count": 1,
     "metadata": {},
     "output_type": "execute_result"
    }
   ],
   "source": [
    "import scala.io.Source\n",
    "val vaseCex = \"https://raw.githubusercontent.com/nadimattia/clas299/master/greek_vase_painters.cex\""
   ]
  },
  {
   "cell_type": "code",
   "execution_count": 2,
   "metadata": {},
   "outputs": [
    {
     "data": {
      "text/plain": [
       "\u001b[36mlines\u001b[39m: \u001b[32mVector\u001b[39m[\u001b[32mString\u001b[39m] = \u001b[33mVector\u001b[39m(\n",
       "  \u001b[32m\"painter#beazely#museumId#shape#FindSpot#SubjectDescription#pleiadesId\"\u001b[39m,\n",
       "  \u001b[32m\"Manner of Euphronios#1#Louvre G 107#Neck-Amphorae#unknown#A, Herakles; B, Amazon shooting#NA\"\u001b[39m,\n",
       "  \u001b[32m\"Manner of Euphronios#2#Leningrad 610#Neck-Amphorae#Vulci#A, Herakles shooting; B, Hydra#413393\"\u001b[39m,\n",
       "  \u001b[32m\"Manner of Euphronios#3#Louvre G 106#Neck-Amphorae#unknown#A, Amazon; B, Amazon#NA\"\u001b[39m,\n",
       "  \u001b[32m\"Manner of Euphronios#4#Athens Acr. 195#Cup#Athens#Naked male#579885\"\u001b[39m,\n",
       "  \u001b[32m\"Manner of Euphronios#1#Berlin 2281#Cup#unknown#I, death of Priam; A, fight; B, warriors pursuing women#NA\"\u001b[39m,\n",
       "  \u001b[32m\"Manner of Euphronios#2#Berlin 2280#Cup#Athens#I, young pursing a woman; A, woman, warrior#579885\"\u001b[39m,\n",
       "  \u001b[32m\"Smikros#1#Brussels A 717#Stamnoi#unknown#A, symposion; B, man and youth filling the dinos#NA\"\u001b[39m,\n",
       "  \u001b[32m\"Smikros#2#Louvre G 43#Stamnoi#Cerveteri#A, Dionysos and maenads; B, satyrs and maenad#422859\"\u001b[39m,\n",
       "  \u001b[32m\"Smikros#3#London E 438#Stamnoi#Todi#A, fight (Ajax and Hector); B, fight#unknown\"\u001b[39m,\n",
       "  \u001b[32m\"Smikros#4#Leningrad 616#Pelikai#unknown#A, Peleus and Thetis; B, jumper and trainer#NA\"\u001b[39m,\n",
       "  \u001b[32m\"Smikros#5#Louvre G 65#Pelikai#unknown#A, Peleus and Thetis; B, fight#NA\"\u001b[39m,\n",
       "  \u001b[32m\"Smikros#6#Louvre G 58#Psykter#unknown#unknown#NA\"\u001b[39m,\n",
       "  \u001b[32m\"The Sosias Painter#1#Berlin 2278#Cup#Vulci#I, Achilles tending Patroklos; A-B, Herakles entering Olympus#413393\"\u001b[39m,\n",
       "  \u001b[32m\"The Sosias Painter#2#Athens Acr. 556#Kantharos#Athens#Herakles entering Olympus#579885\"\u001b[39m\n",
       ")"
      ]
     },
     "execution_count": 2,
     "metadata": {},
     "output_type": "execute_result"
    }
   ],
   "source": [
    "val lines = Source.fromURL(vaseCex).getLines.toVector"
   ]
  },
  {
   "cell_type": "code",
   "execution_count": 3,
   "metadata": {},
   "outputs": [
    {
     "data": {
      "text/plain": [
       "\u001b[36mres2\u001b[39m: \u001b[32mString\u001b[39m = \u001b[32m\"painter#beazely#museumId#shape#FindSpot#SubjectDescription#pleiadesId\"\u001b[39m"
      ]
     },
     "execution_count": 3,
     "metadata": {},
     "output_type": "execute_result"
    }
   ],
   "source": [
    "lines.head"
   ]
  },
  {
   "cell_type": "code",
   "execution_count": 4,
   "metadata": {},
   "outputs": [
    {
     "data": {
      "text/plain": [
       "\u001b[36mres3\u001b[39m: \u001b[32mString\u001b[39m = \u001b[32m\"Manner of Euphronios#1#Louvre G 107#Neck-Amphorae#unknown#A, Herakles; B, Amazon shooting#NA\"\u001b[39m"
      ]
     },
     "execution_count": 4,
     "metadata": {},
     "output_type": "execute_result"
    }
   ],
   "source": [
    "lines(1)"
   ]
  },
  {
   "cell_type": "code",
   "execution_count": 5,
   "metadata": {},
   "outputs": [
    {
     "data": {
      "text/plain": [
       "\u001b[36mdata\u001b[39m: \u001b[32mVector\u001b[39m[\u001b[32mVector\u001b[39m[\u001b[32mString\u001b[39m]] = \u001b[33mVector\u001b[39m(\n",
       "  \u001b[33mVector\u001b[39m(\n",
       "    \u001b[32m\"Manner of Euphronios\"\u001b[39m,\n",
       "    \u001b[32m\"1\"\u001b[39m,\n",
       "    \u001b[32m\"Louvre G 107\"\u001b[39m,\n",
       "    \u001b[32m\"Neck-Amphorae\"\u001b[39m,\n",
       "    \u001b[32m\"unknown\"\u001b[39m,\n",
       "    \u001b[32m\"A, Herakles; B, Amazon shooting\"\u001b[39m,\n",
       "    \u001b[32m\"NA\"\u001b[39m\n",
       "  ),\n",
       "  \u001b[33mVector\u001b[39m(\n",
       "    \u001b[32m\"Manner of Euphronios\"\u001b[39m,\n",
       "    \u001b[32m\"2\"\u001b[39m,\n",
       "    \u001b[32m\"Leningrad 610\"\u001b[39m,\n",
       "    \u001b[32m\"Neck-Amphorae\"\u001b[39m,\n",
       "    \u001b[32m\"Vulci\"\u001b[39m,\n",
       "    \u001b[32m\"A, Herakles shooting; B, Hydra\"\u001b[39m,\n",
       "    \u001b[32m\"413393\"\u001b[39m\n",
       "  ),\n",
       "  \u001b[33mVector\u001b[39m(\n",
       "    \u001b[32m\"Manner of Euphronios\"\u001b[39m,\n",
       "    \u001b[32m\"3\"\u001b[39m,\n",
       "    \u001b[32m\"Louvre G 106\"\u001b[39m,\n",
       "    \u001b[32m\"Neck-Amphorae\"\u001b[39m,\n",
       "    \u001b[32m\"unknown\"\u001b[39m,\n",
       "    \u001b[32m\"A, Amazon; B, Amazon\"\u001b[39m,\n",
       "    \u001b[32m\"NA\"\u001b[39m\n",
       "  ),\n",
       "  \u001b[33mVector\u001b[39m(\n",
       "    \u001b[32m\"Manner of Euphronios\"\u001b[39m,\n",
       "    \u001b[32m\"4\"\u001b[39m,\n",
       "    \u001b[32m\"Athens Acr. 195\"\u001b[39m,\n",
       "    \u001b[32m\"Cup\"\u001b[39m,\n",
       "    \u001b[32m\"Athens\"\u001b[39m,\n",
       "    \u001b[32m\"Naked male\"\u001b[39m,\n",
       "    \u001b[32m\"579885\"\u001b[39m\n",
       "  ),\n",
       "  \u001b[33mVector\u001b[39m(\n",
       "    \u001b[32m\"Manner of Euphronios\"\u001b[39m,\n",
       "..."
      ]
     },
     "execution_count": 5,
     "metadata": {},
     "output_type": "execute_result"
    }
   ],
   "source": [
    "val data = lines.tail.map(ln => ln.split(\"#\").toVector)"
   ]
  },
  {
   "cell_type": "code",
   "execution_count": 7,
   "metadata": {},
   "outputs": [
    {
     "data": {
      "text/plain": [
       "\u001b[36mids\u001b[39m: \u001b[32mVector\u001b[39m[\u001b[32mString\u001b[39m] = \u001b[33mVector\u001b[39m(\n",
       "  \u001b[32m\"Louvre G 107\"\u001b[39m,\n",
       "  \u001b[32m\"Leningrad 610\"\u001b[39m,\n",
       "  \u001b[32m\"Louvre G 106\"\u001b[39m,\n",
       "  \u001b[32m\"Athens Acr. 195\"\u001b[39m,\n",
       "  \u001b[32m\"Berlin 2281\"\u001b[39m,\n",
       "  \u001b[32m\"Berlin 2280\"\u001b[39m,\n",
       "  \u001b[32m\"Brussels A 717\"\u001b[39m,\n",
       "  \u001b[32m\"Louvre G 43\"\u001b[39m,\n",
       "  \u001b[32m\"London E 438\"\u001b[39m,\n",
       "  \u001b[32m\"Leningrad 616\"\u001b[39m,\n",
       "  \u001b[32m\"Louvre G 65\"\u001b[39m,\n",
       "  \u001b[32m\"Louvre G 58\"\u001b[39m,\n",
       "  \u001b[32m\"Berlin 2278\"\u001b[39m,\n",
       "  \u001b[32m\"Athens Acr. 556\"\u001b[39m\n",
       ")"
      ]
     },
     "execution_count": 7,
     "metadata": {},
     "output_type": "execute_result"
    }
   ],
   "source": [
    "val ids = data.map(columns => columns(2))"
   ]
  },
  {
   "cell_type": "code",
   "execution_count": 8,
   "metadata": {},
   "outputs": [
    {
     "name": "stdout",
     "output_type": "stream",
     "text": [
      "All records uniquely identified.\n"
     ]
    }
   ],
   "source": [
    "if(ids.size == ids.distinct.size) {\n",
    "    println(\"All records uniquely identified.\")\n",
    "} else {\n",
    "    println(\"Duplicate identifiers in data set.\")\n",
    "}"
   ]
  },
  {
   "cell_type": "code",
   "execution_count": 9,
   "metadata": {},
   "outputs": [
    {
     "data": {
      "text/plain": [
       "\u001b[36mshape\u001b[39m: \u001b[32mVector\u001b[39m[\u001b[32mString\u001b[39m] = \u001b[33mVector\u001b[39m(\n",
       "  \u001b[32m\"Neck-Amphorae\"\u001b[39m,\n",
       "  \u001b[32m\"Neck-Amphorae\"\u001b[39m,\n",
       "  \u001b[32m\"Neck-Amphorae\"\u001b[39m,\n",
       "  \u001b[32m\"Cup\"\u001b[39m,\n",
       "  \u001b[32m\"Cup\"\u001b[39m,\n",
       "  \u001b[32m\"Cup\"\u001b[39m,\n",
       "  \u001b[32m\"Stamnoi\"\u001b[39m,\n",
       "  \u001b[32m\"Stamnoi\"\u001b[39m,\n",
       "  \u001b[32m\"Stamnoi\"\u001b[39m,\n",
       "  \u001b[32m\"Pelikai\"\u001b[39m,\n",
       "  \u001b[32m\"Pelikai\"\u001b[39m,\n",
       "  \u001b[32m\"Psykter\"\u001b[39m,\n",
       "  \u001b[32m\"Cup\"\u001b[39m,\n",
       "  \u001b[32m\"Kantharos\"\u001b[39m\n",
       ")"
      ]
     },
     "execution_count": 9,
     "metadata": {},
     "output_type": "execute_result"
    }
   ],
   "source": [
    "val shape = data.map(columns => columns(3))"
   ]
  },
  {
   "cell_type": "code",
   "execution_count": 10,
   "metadata": {},
   "outputs": [
    {
     "data": {
      "text/plain": [
       "\u001b[36mshapeGrouped\u001b[39m: \u001b[32mMap\u001b[39m[\u001b[32mString\u001b[39m, \u001b[32mVector\u001b[39m[\u001b[32mString\u001b[39m]] = \u001b[33mMap\u001b[39m(\n",
       "  \u001b[32m\"Pelikai\"\u001b[39m -> \u001b[33mVector\u001b[39m(\u001b[32m\"Pelikai\"\u001b[39m, \u001b[32m\"Pelikai\"\u001b[39m),\n",
       "  \u001b[32m\"Neck-Amphorae\"\u001b[39m -> \u001b[33mVector\u001b[39m(\u001b[32m\"Neck-Amphorae\"\u001b[39m, \u001b[32m\"Neck-Amphorae\"\u001b[39m, \u001b[32m\"Neck-Amphorae\"\u001b[39m),\n",
       "  \u001b[32m\"Kantharos\"\u001b[39m -> \u001b[33mVector\u001b[39m(\u001b[32m\"Kantharos\"\u001b[39m),\n",
       "  \u001b[32m\"Psykter\"\u001b[39m -> \u001b[33mVector\u001b[39m(\u001b[32m\"Psykter\"\u001b[39m),\n",
       "  \u001b[32m\"Cup\"\u001b[39m -> \u001b[33mVector\u001b[39m(\u001b[32m\"Cup\"\u001b[39m, \u001b[32m\"Cup\"\u001b[39m, \u001b[32m\"Cup\"\u001b[39m, \u001b[32m\"Cup\"\u001b[39m),\n",
       "  \u001b[32m\"Stamnoi\"\u001b[39m -> \u001b[33mVector\u001b[39m(\u001b[32m\"Stamnoi\"\u001b[39m, \u001b[32m\"Stamnoi\"\u001b[39m, \u001b[32m\"Stamnoi\"\u001b[39m)\n",
       ")"
      ]
     },
     "execution_count": 10,
     "metadata": {},
     "output_type": "execute_result"
    }
   ],
   "source": [
    "val shapeGrouped = shape.groupBy(shape => shape)"
   ]
  },
  {
   "cell_type": "code",
   "execution_count": 11,
   "metadata": {},
   "outputs": [
    {
     "name": "stdout",
     "output_type": "stream",
     "text": [
      "Number of groups is same as number of distinct values.\n"
     ]
    }
   ],
   "source": [
    "if (shapeGrouped.size == shape.distinct.size) {\n",
    "    println(\"Number of groups is same as number of distinct values.\")\n",
    "} else {\n",
    "    println(\"Something is terribly wrong.  The number of groups is not the same as the number of distinct values.\")\n",
    "}"
   ]
  },
  {
   "cell_type": "code",
   "execution_count": 12,
   "metadata": {
    "scrolled": true
   },
   "outputs": [
    {
     "data": {
      "text/plain": [
       "\u001b[36mshapeCounts\u001b[39m: \u001b[32mMap\u001b[39m[\u001b[32mString\u001b[39m, \u001b[32mInt\u001b[39m] = \u001b[33mMap\u001b[39m(\n",
       "  \u001b[32m\"Pelikai\"\u001b[39m -> \u001b[32m2\u001b[39m,\n",
       "  \u001b[32m\"Neck-Amphorae\"\u001b[39m -> \u001b[32m3\u001b[39m,\n",
       "  \u001b[32m\"Kantharos\"\u001b[39m -> \u001b[32m1\u001b[39m,\n",
       "  \u001b[32m\"Psykter\"\u001b[39m -> \u001b[32m1\u001b[39m,\n",
       "  \u001b[32m\"Cup\"\u001b[39m -> \u001b[32m4\u001b[39m,\n",
       "  \u001b[32m\"Stamnoi\"\u001b[39m -> \u001b[32m3\u001b[39m\n",
       ")"
      ]
     },
     "execution_count": 12,
     "metadata": {},
     "output_type": "execute_result"
    }
   ],
   "source": [
    "val shapeCounts = shapeGrouped.map{ case (d, v) => (d, v.size) }"
   ]
  },
  {
   "cell_type": "code",
   "execution_count": 13,
   "metadata": {},
   "outputs": [
    {
     "data": {
      "text/plain": [
       "\u001b[36mshapeHisto\u001b[39m: \u001b[32mVector\u001b[39m[(\u001b[32mString\u001b[39m, \u001b[32mInt\u001b[39m)] = \u001b[33mVector\u001b[39m(\n",
       "  (\u001b[32m\"Cup\"\u001b[39m, \u001b[32m4\u001b[39m),\n",
       "  (\u001b[32m\"Stamnoi\"\u001b[39m, \u001b[32m3\u001b[39m),\n",
       "  (\u001b[32m\"Neck-Amphorae\"\u001b[39m, \u001b[32m3\u001b[39m),\n",
       "  (\u001b[32m\"Pelikai\"\u001b[39m, \u001b[32m2\u001b[39m),\n",
       "  (\u001b[32m\"Psykter\"\u001b[39m, \u001b[32m1\u001b[39m),\n",
       "  (\u001b[32m\"Kantharos\"\u001b[39m, \u001b[32m1\u001b[39m)\n",
       ")"
      ]
     },
     "execution_count": 13,
     "metadata": {},
     "output_type": "execute_result"
    }
   ],
   "source": [
    "val shapeHisto = shapeCounts.toVector.sortBy(frequency => frequency._2).reverse"
   ]
  },
  {
   "cell_type": "code",
   "execution_count": 14,
   "metadata": {},
   "outputs": [
    {
     "name": "stdout",
     "output_type": "stream",
     "text": [
      "Most frequent shape: (Cup,4)\n"
     ]
    }
   ],
   "source": [
    "println(\"Most frequent shape: \" + shapeHisto.head)"
   ]
  },
  {
   "cell_type": "code",
   "execution_count": 17,
   "metadata": {},
   "outputs": [
    {
     "name": "stdout",
     "output_type": "stream",
     "text": [
      "Least frequent shapes: \n",
      "(Pelikai,2)\n",
      "(Psykter,1)\n",
      "(Kantharos,1)\n"
     ]
    },
    {
     "data": {
      "text/plain": [
       "\u001b[36mcutOff\u001b[39m: \u001b[32mInt\u001b[39m = \u001b[32m3\u001b[39m\n",
       "\u001b[36mleastShape\u001b[39m: \u001b[32mVector\u001b[39m[(\u001b[32mString\u001b[39m, \u001b[32mInt\u001b[39m)] = \u001b[33mVector\u001b[39m(\n",
       "  (\u001b[32m\"Pelikai\"\u001b[39m, \u001b[32m2\u001b[39m),\n",
       "  (\u001b[32m\"Psykter\"\u001b[39m, \u001b[32m1\u001b[39m),\n",
       "  (\u001b[32m\"Kantharos\"\u001b[39m, \u001b[32m1\u001b[39m)\n",
       ")"
      ]
     },
     "execution_count": 17,
     "metadata": {},
     "output_type": "execute_result"
    }
   ],
   "source": [
    "val cutOff = 3\n",
    "val leastShape = shapeHisto.filter(frequency => frequency._2 < cutOff)\n",
    "println(\"Least frequent shapes: \\n\" + leastShape.mkString(\"\\n\"))"
   ]
  },
  {
   "cell_type": "code",
   "execution_count": 18,
   "metadata": {},
   "outputs": [
    {
     "data": {
      "text/plain": [
       "\u001b[36mFindSpot\u001b[39m: \u001b[32mVector\u001b[39m[\u001b[32mString\u001b[39m] = \u001b[33mVector\u001b[39m(\n",
       "  \u001b[32m\"unknown\"\u001b[39m,\n",
       "  \u001b[32m\"Vulci\"\u001b[39m,\n",
       "  \u001b[32m\"unknown\"\u001b[39m,\n",
       "  \u001b[32m\"Athens\"\u001b[39m,\n",
       "  \u001b[32m\"unknown\"\u001b[39m,\n",
       "  \u001b[32m\"Athens\"\u001b[39m,\n",
       "  \u001b[32m\"unknown\"\u001b[39m,\n",
       "  \u001b[32m\"Cerveteri\"\u001b[39m,\n",
       "  \u001b[32m\"Todi\"\u001b[39m,\n",
       "  \u001b[32m\"unknown\"\u001b[39m,\n",
       "  \u001b[32m\"unknown\"\u001b[39m,\n",
       "  \u001b[32m\"unknown\"\u001b[39m,\n",
       "  \u001b[32m\"Vulci\"\u001b[39m,\n",
       "  \u001b[32m\"Athens\"\u001b[39m\n",
       ")"
      ]
     },
     "execution_count": 18,
     "metadata": {},
     "output_type": "execute_result"
    }
   ],
   "source": [
    " val FindSpot = data.map(columns => columns(4))"
   ]
  },
  {
   "cell_type": "code",
   "execution_count": 19,
   "metadata": {},
   "outputs": [
    {
     "data": {
      "text/plain": [
       "\u001b[36mFindSpotGrouped\u001b[39m: \u001b[32mMap\u001b[39m[\u001b[32mString\u001b[39m, \u001b[32mVector\u001b[39m[\u001b[32mString\u001b[39m]] = \u001b[33mMap\u001b[39m(\n",
       "  \u001b[32m\"Athens\"\u001b[39m -> \u001b[33mVector\u001b[39m(\u001b[32m\"Athens\"\u001b[39m, \u001b[32m\"Athens\"\u001b[39m, \u001b[32m\"Athens\"\u001b[39m),\n",
       "  \u001b[32m\"Cerveteri\"\u001b[39m -> \u001b[33mVector\u001b[39m(\u001b[32m\"Cerveteri\"\u001b[39m),\n",
       "  \u001b[32m\"unknown\"\u001b[39m -> \u001b[33mVector\u001b[39m(\n",
       "    \u001b[32m\"unknown\"\u001b[39m,\n",
       "    \u001b[32m\"unknown\"\u001b[39m,\n",
       "    \u001b[32m\"unknown\"\u001b[39m,\n",
       "    \u001b[32m\"unknown\"\u001b[39m,\n",
       "    \u001b[32m\"unknown\"\u001b[39m,\n",
       "    \u001b[32m\"unknown\"\u001b[39m,\n",
       "    \u001b[32m\"unknown\"\u001b[39m\n",
       "  ),\n",
       "  \u001b[32m\"Vulci\"\u001b[39m -> \u001b[33mVector\u001b[39m(\u001b[32m\"Vulci\"\u001b[39m, \u001b[32m\"Vulci\"\u001b[39m),\n",
       "  \u001b[32m\"Todi\"\u001b[39m -> \u001b[33mVector\u001b[39m(\u001b[32m\"Todi\"\u001b[39m)\n",
       ")"
      ]
     },
     "execution_count": 19,
     "metadata": {},
     "output_type": "execute_result"
    }
   ],
   "source": [
    "val FindSpotGrouped = FindSpot.groupBy(FindSpot => FindSpot)"
   ]
  },
  {
   "cell_type": "code",
   "execution_count": 20,
   "metadata": {},
   "outputs": [
    {
     "name": "stdout",
     "output_type": "stream",
     "text": [
      "Number of groups is same as number of distinct values.\n"
     ]
    }
   ],
   "source": [
    "if (FindSpotGrouped.size == FindSpot.distinct.size) {\n",
    "    println(\"Number of groups is same as number of distinct values.\")\n",
    "} else {\n",
    "    println(\"Something is terribly wrong.  The number of groups is not the same as the number of distinct values.\")\n",
    "}"
   ]
  },
  {
   "cell_type": "code",
   "execution_count": 21,
   "metadata": {},
   "outputs": [
    {
     "data": {
      "text/plain": [
       "\u001b[36mFindSpotCounts\u001b[39m: \u001b[32mMap\u001b[39m[\u001b[32mString\u001b[39m, \u001b[32mInt\u001b[39m] = \u001b[33mMap\u001b[39m(\n",
       "  \u001b[32m\"Athens\"\u001b[39m -> \u001b[32m3\u001b[39m,\n",
       "  \u001b[32m\"Cerveteri\"\u001b[39m -> \u001b[32m1\u001b[39m,\n",
       "  \u001b[32m\"unknown\"\u001b[39m -> \u001b[32m7\u001b[39m,\n",
       "  \u001b[32m\"Vulci\"\u001b[39m -> \u001b[32m2\u001b[39m,\n",
       "  \u001b[32m\"Todi\"\u001b[39m -> \u001b[32m1\u001b[39m\n",
       ")"
      ]
     },
     "execution_count": 21,
     "metadata": {},
     "output_type": "execute_result"
    }
   ],
   "source": [
    "val FindSpotCounts = FindSpotGrouped.map{ case (d, v) => (d, v.size) }"
   ]
  },
  {
   "cell_type": "code",
   "execution_count": 22,
   "metadata": {},
   "outputs": [
    {
     "data": {
      "text/plain": [
       "\u001b[36mFindSpotHisto\u001b[39m: \u001b[32mVector\u001b[39m[(\u001b[32mString\u001b[39m, \u001b[32mInt\u001b[39m)] = \u001b[33mVector\u001b[39m(\n",
       "  (\u001b[32m\"unknown\"\u001b[39m, \u001b[32m7\u001b[39m),\n",
       "  (\u001b[32m\"Athens\"\u001b[39m, \u001b[32m3\u001b[39m),\n",
       "  (\u001b[32m\"Vulci\"\u001b[39m, \u001b[32m2\u001b[39m),\n",
       "  (\u001b[32m\"Todi\"\u001b[39m, \u001b[32m1\u001b[39m),\n",
       "  (\u001b[32m\"Cerveteri\"\u001b[39m, \u001b[32m1\u001b[39m)\n",
       ")"
      ]
     },
     "execution_count": 22,
     "metadata": {},
     "output_type": "execute_result"
    }
   ],
   "source": [
    "val FindSpotHisto = FindSpotCounts.toVector.sortBy(frequency => frequency._2).reverse"
   ]
  },
  {
   "cell_type": "code",
   "execution_count": 23,
   "metadata": {},
   "outputs": [
    {
     "name": "stdout",
     "output_type": "stream",
     "text": [
      "Most frequent FindSpot: (unknown,7)\n"
     ]
    }
   ],
   "source": [
    "println(\"Most frequent FindSpot: \" + FindSpotHisto.head)"
   ]
  },
  {
   "cell_type": "code",
   "execution_count": 25,
   "metadata": {},
   "outputs": [
    {
     "name": "stdout",
     "output_type": "stream",
     "text": [
      "Least frequent FindSpots: \n",
      "(Todi,1)\n",
      "(Cerveteri,1)\n"
     ]
    },
    {
     "data": {
      "text/plain": [
       "\u001b[36mcutOff\u001b[39m: \u001b[32mInt\u001b[39m = \u001b[32m2\u001b[39m\n",
       "\u001b[36mleastFindSpot\u001b[39m: \u001b[32mVector\u001b[39m[(\u001b[32mString\u001b[39m, \u001b[32mInt\u001b[39m)] = \u001b[33mVector\u001b[39m((\u001b[32m\"Todi\"\u001b[39m, \u001b[32m1\u001b[39m), (\u001b[32m\"Cerveteri\"\u001b[39m, \u001b[32m1\u001b[39m))"
      ]
     },
     "execution_count": 25,
     "metadata": {},
     "output_type": "execute_result"
    }
   ],
   "source": [
    "val cutOff = 2\n",
    "val leastFindSpot = FindSpotHisto.filter(frequency => frequency._2 < cutOff)\n",
    "println(\"Least frequent FindSpots: \\n\" + leastFindSpot.mkString(\"\\n\"))"
   ]
  }
 ],
 "metadata": {
  "kernelspec": {
   "display_name": "Scala (2.12)",
   "language": "scala",
   "name": "scala212"
  },
  "language_info": {
   "codemirror_mode": "text/x-scala",
   "file_extension": ".scala",
   "mimetype": "text/x-scala",
   "name": "scala",
   "nbconvert_exporter": "script",
   "version": "2.12.10"
  }
 },
 "nbformat": 4,
 "nbformat_minor": 4
}
