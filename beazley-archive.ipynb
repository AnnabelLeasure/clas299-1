{
  "cells": [
    {
      "cell_type": "code",
      "source": [
        "val url = \"http://shot.holycross.edu/dimattia-vases.tsv\""
      ],
      "outputs": [
        {
          "output_type": "execute_result",
          "execution_count": 5,
          "data": {
            "text/plain": [
              "\u001b[36murl\u001b[39m: \u001b[32mString\u001b[39m = \u001b[32m\"http://shot.holycross.edu/dimattia-vases.tsv\"\u001b[39m"
            ]
          },
          "metadata": {}
        }
      ],
      "execution_count": 5,
      "metadata": {
        "collapsed": true,
        "outputExpanded": false,
        "jupyter": {
          "source_hidden": false,
          "outputs_hidden": false
        },
        "nteract": {
          "transient": {
            "deleting": false
          }
        },
        "execution": {
          "iopub.execute_input": "2020-04-16T20:07:15.169Z",
          "iopub.status.busy": "2020-04-16T20:07:15.173Z",
          "iopub.status.idle": "2020-04-16T20:07:15.666Z"
        }
      }
    },
    {
      "cell_type": "code",
      "source": [
        "import scala.io.Source\n",
        "val lines = Source.fromURL(url).getLines.toVector\n",
        "lines.size"
      ],
      "outputs": [
        {
          "output_type": "execute_result",
          "execution_count": 11,
          "data": {
            "text/plain": [
              "\u001b[32mimport \u001b[39m\u001b[36mscala.io.Source\n",
              "\u001b[39m\n",
              "\u001b[36mlines\u001b[39m: \u001b[32mVector\u001b[39m[\u001b[32mString\u001b[39m] = \u001b[33mVector\u001b[39m(\n",
              "  \u001b[32m\"\"\"\n",
              "URI\tVase Number\tFabric\tTechnique\tSub Technique\tShape Name\tProvenance\tDate\tInscriptions\t Attributed To\t Decoration\t Collection Record\t Publication Record\t Inscriptions II\tMeasurements\tVolume\tWeight\tRestorations\tOrnament\t Technical Observations\tPleiades URI\tLatitude\tLongitude\n",
              "  \"\"\"\u001b[39m,\n",
              "  \u001b[32m\"\"\"\n",
              "<a href=\"http://www.beazley.ox.ac.uk/record/8C5C25CA-9E1C-41A2-886A-2558611DCA04\" target=\"_blank\">http://www.beazley.ox.ac.uk/record/8C5C25CA-9E1C-41A2-886A-2558611DCA04</a>\t1\tATHENIAN\tBLACK-FIGURE\t\tAMPHORA, NECK\tITALY, ETRURIA, VULCI\t-550 to -500\t\tCHIUSI P by KUNZE-GOTTE | LEAGROS GROUP by KUNZE-GOTTE\tA,B: TRIPTOLEMOS\u001b[33m...\u001b[39m\n",
              "\u001b[36mres10_2\u001b[39m: \u001b[32mInt\u001b[39m = \u001b[32m117751\u001b[39m"
            ]
          },
          "metadata": {}
        }
      ],
      "execution_count": 11,
      "metadata": {
        "collapsed": true,
        "outputExpanded": false,
        "jupyter": {
          "source_hidden": false,
          "outputs_hidden": false
        },
        "nteract": {
          "transient": {
            "deleting": false
          }
        },
        "execution": {
          "iopub.execute_input": "2020-04-16T20:10:08.529Z",
          "iopub.status.busy": "2020-04-16T20:10:08.546Z",
          "iopub.status.idle": "2020-04-16T20:10:51.826Z"
        }
      }
    },
    {
      "cell_type": "code",
      "source": [
        "val byColumns = lines.map(ln => ln.split(\"\\t\").toVector)\n",
        "byColumns.size"
      ],
      "outputs": [
        {
          "output_type": "execute_result",
          "execution_count": 12,
          "data": {
            "text/plain": [
              "\u001b[36mbyColumns\u001b[39m: \u001b[32mVector\u001b[39m[\u001b[32mVector\u001b[39m[\u001b[32mString\u001b[39m]] = \u001b[33mVector\u001b[39m(\n",
              "  \u001b[33mVector\u001b[39m(\n",
              "    \u001b[32m\"URI\"\u001b[39m,\n",
              "    \u001b[32m\"Vase Number\"\u001b[39m,\n",
              "    \u001b[32m\"Fabric\"\u001b[39m,\n",
              "    \u001b[32m\"Technique\"\u001b[39m,\n",
              "    \u001b[32m\"Sub Technique\"\u001b[39m,\n",
              "    \u001b[32m\"Shape Name\"\u001b[39m,\n",
              "    \u001b[32m\"Provenance\"\u001b[39m,\n",
              "    \u001b[32m\"Date\"\u001b[39m,\n",
              "    \u001b[32m\"Inscriptions\"\u001b[39m,\n",
              "    \u001b[32m\" Attributed To\"\u001b[39m,\n",
              "\u001b[33m...\u001b[39m\n",
              "\u001b[36mres11_1\u001b[39m: \u001b[32mInt\u001b[39m = \u001b[32m117751\u001b[39m"
            ]
          },
          "metadata": {}
        }
      ],
      "execution_count": 12,
      "metadata": {
        "collapsed": true,
        "outputExpanded": false,
        "jupyter": {
          "source_hidden": false,
          "outputs_hidden": false
        },
        "nteract": {
          "transient": {
            "deleting": false
          }
        },
        "execution": {
          "iopub.execute_input": "2020-04-16T20:10:57.819Z",
          "iopub.status.busy": "2020-04-16T20:10:57.825Z",
          "iopub.status.idle": "2020-04-16T20:11:02.135Z"
        }
      }
    },
    {
      "cell_type": "code",
      "source": [
        "val trimmed = byColumns.filter(row => row.size == 23).map( v => Vector(v(1), v(5), v(6), v(7), v(9), v(21), v(22)))"
      ],
      "outputs": [
        {
          "output_type": "execute_result",
          "execution_count": 17,
          "data": {
            "text/plain": [
              "\u001b[36mtrimmed\u001b[39m: \u001b[32mVector\u001b[39m[\u001b[32mVector\u001b[39m[\u001b[32mString\u001b[39m]] = \u001b[33mVector\u001b[39m(\n",
              "  \u001b[33mVector\u001b[39m(\n",
              "    \u001b[32m\"Vase Number\"\u001b[39m,\n",
              "    \u001b[32m\"Shape Name\"\u001b[39m,\n",
              "    \u001b[32m\"Provenance\"\u001b[39m,\n",
              "    \u001b[32m\"Date\"\u001b[39m,\n",
              "    \u001b[32m\" Attributed To\"\u001b[39m,\n",
              "    \u001b[32m\"Latitude\"\u001b[39m,\n",
              "    \u001b[32m\"Longitude\"\u001b[39m\n",
              "  ),\n",
              "  \u001b[33mVector\u001b[39m(\n",
              "    \u001b[32m\"1\"\u001b[39m,\n",
              "\u001b[33m...\u001b[39m"
            ]
          },
          "metadata": {}
        }
      ],
      "execution_count": 17,
      "metadata": {
        "collapsed": true,
        "outputExpanded": false,
        "jupyter": {
          "source_hidden": false,
          "outputs_hidden": false
        },
        "nteract": {
          "transient": {
            "deleting": false
          }
        },
        "execution": {
          "iopub.execute_input": "2020-04-16T20:14:17.725Z",
          "iopub.status.busy": "2020-04-16T20:14:17.732Z",
          "iopub.status.idle": "2020-04-16T20:14:18.502Z"
        }
      }
    },
    {
      "cell_type": "code",
      "source": [
        "// how many full records?\n",
        "trimmed.head"
      ],
      "outputs": [
        {
          "output_type": "execute_result",
          "execution_count": 19,
          "data": {
            "text/plain": [
              "\u001b[36mres18\u001b[39m: \u001b[32mVector\u001b[39m[\u001b[32mString\u001b[39m] = \u001b[33mVector\u001b[39m(\n",
              "  \u001b[32m\"Vase Number\"\u001b[39m,\n",
              "  \u001b[32m\"Shape Name\"\u001b[39m,\n",
              "  \u001b[32m\"Provenance\"\u001b[39m,\n",
              "  \u001b[32m\"Date\"\u001b[39m,\n",
              "  \u001b[32m\" Attributed To\"\u001b[39m,\n",
              "  \u001b[32m\"Latitude\"\u001b[39m,\n",
              "  \u001b[32m\"Longitude\"\u001b[39m\n",
              ")"
            ]
          },
          "metadata": {}
        }
      ],
      "execution_count": 19,
      "metadata": {
        "collapsed": true,
        "outputExpanded": false,
        "jupyter": {
          "source_hidden": false,
          "outputs_hidden": false
        },
        "nteract": {
          "transient": {
            "deleting": false
          }
        },
        "execution": {
          "iopub.execute_input": "2020-04-16T20:14:53.481Z",
          "iopub.status.busy": "2020-04-16T20:14:53.487Z",
          "iopub.status.idle": "2020-04-16T20:14:55.506Z"
        }
      }
    }
  ],
  "metadata": {
    "kernel_info": {
      "name": "scala"
    },
    "language_info": {
      "mimetype": "text/x-scala",
      "name": "scala211",
      "pygments_lexer": "scala",
      "codemirror_mode": "text/x-scala",
      "version": "2.11.11",
      "nbconvert_exporter": "script",
      "file_extension": ".scala"
    },
    "kernelspec": {
      "argv": [
        "java",
        "-noverify",
        "-jar",
        "/Users/nsmith/Library/Jupyter/kernels/scala/launcher.jar",
        "launch",
        "-r",
        "sonatype:releases",
        "-r",
        "sonatype:snapshots",
        "-i",
        "ammonite",
        "-I",
        "ammonite:org.jupyter-scala:ammonite-runtime_2.11.11:0.8.3",
        "-I",
        "ammonite:org.jupyter-scala:scala-api_2.11.11:0.4.1",
        "org.jupyter-scala:scala-cli_2.11.11:0.4.1",
        "--",
        "--id",
        "scala",
        "--name",
        "Scala",
        "--quiet",
        "--connection-file",
        "{connection_file}"
      ],
      "display_name": "Scala",
      "language": "scala",
      "name": "scala"
    },
    "nteract": {
      "version": "0.22.4"
    }
  },
  "nbformat": 4,
  "nbformat_minor": 0
}