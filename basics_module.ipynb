{
 "cells": [
  {
   "cell_type": "code",
   "execution_count": 14,
   "metadata": {},
   "outputs": [
    {
     "data": {
      "text/plain": [
       "\u001b[36murl\u001b[39m: \u001b[32mString\u001b[39m = \u001b[32m\"http://shot.holycross.edu/courses/ada/S20/data/lycianNecropoleis.cex\"\u001b[39m"
      ]
     },
     "execution_count": 14,
     "metadata": {},
     "output_type": "execute_result"
    }
   ],
   "source": [
    "val url = \"http://shot.holycross.edu/courses/ada/S20/data/lycianNecropoleis.cex\""
   ]
  },
  {
   "cell_type": "code",
   "execution_count": 2,
   "metadata": {},
   "outputs": [
    {
     "data": {
      "text/plain": [
       "\u001b[32mimport \u001b[39m\u001b[36mscala.io.Source\n",
       "\u001b[39m\n",
       "\u001b[36mlines\u001b[39m: \u001b[32mVector\u001b[39m[\u001b[32mString\u001b[39m] = \u001b[33mVector\u001b[39m(\n",
       "  \u001b[32m\"sitename#ztype#tombcount#comments#ztypetext#rageid\"\u001b[39m,\n",
       "  \u001b[32m\"Antiphellos#IID#17#NA#House tomb, rock-cut facade#1667\"\u001b[39m,\n",
       "  \u001b[32m\"Pinara#IIIA#2#NA#Lycian sarcophagus, free standing#1696\"\u001b[39m,\n",
       "  \u001b[32m\"Delicedere#IIIA#1#NA#Lycian sarcophagus, free standing#NA\"\u001b[39m,\n",
       "  \u001b[32m\"Xanthos#IIIA#9#NA#Lycian sarcophagus, free standing#1694\"\u001b[39m,\n",
       "  \u001b[32m\"Tlos#IIIA#5#NA#Lycian sarcophagus, free standing#1695\"\u001b[39m,\n",
       "  \u001b[32m\"Telmessos#IIIA#1#NA#Lycian sarcophagus, free standing#1571\"\u001b[39m,\n",
       "  \u001b[32m\"Trysa#IIIA#4#NA#Lycian sarcophagus, free standing#1666\"\u001b[39m,\n",
       "  \u001b[32m\"Tuze#IIIA#3#NA#Lycian sarcophagus, free standing#1756\"\u001b[39m,\n",
       "  \u001b[32m\"Cindam#IIIA#1#NA#Lycian sarcophagus, free standing#1755\"\u001b[39m,\n",
       "  \u001b[32m\"Bayindir Liman#IIIA#1#NA#Lycian sarcophagus, free standing#1724\"\u001b[39m,\n",
       "  \u001b[32m\"Sura#IIIA#1#NA#Lycian sarcophagus, free standing#1702\"\u001b[39m,\n",
       "  \u001b[32m\"Limyra#IIIA#5#NA#Lycian sarcophagus, free standing#1701\"\u001b[39m,\n",
       "  \u001b[32m\"Kyanai#IIIA#2#NA#Lycian sarcophagus, free standing#1707\"\u001b[39m,\n",
       "  \u001b[32m\"Kadyanda#IIIA#1#NA#Lycian sarcophagus, free standing#1673\"\u001b[39m,\n",
       "  \u001b[32m\"Isinda#IIIA#1#NA#Lycian sarcophagus, free standing#1705\"\u001b[39m,\n",
       "  \u001b[32m\"Antiphellos#IIIA#1#NA#Lycian sarcophagus, free standing#1667\"\u001b[39m,\n",
       "  \u001b[32m\"Pinara#IIIB#1#NA#Lycian sarcophagus, partially free standing#1696\"\u001b[39m,\n",
       "  \u001b[32m\"Phellos#IIIB#1#NA#Lycian sarcophagus, partially free standing#1699\"\u001b[39m,\n",
       "  \u001b[32m\"Koybasi#IIIB#1#NA#Lycian sarcophagus, partially free standing#1763\"\u001b[39m,\n",
       "  \u001b[32m\"Kyanai#IIIB#1#NA#Lycian sarcophagus, partially free standing#1707\"\u001b[39m,\n",
       "  \u001b[32m\"Pinara#IIID#2#NA#Lycian sarcophagus, rock-cut facade#1696\"\u001b[39m,\n",
       "  \u001b[32m\"Myra#IIID#3#NA#Lycian sarcophagus, rock-cut facade#1697\"\u001b[39m,\n",
       "  \u001b[32m\"Teimiousa#IIID#1#NA#Lycian sarcophagus, rock-cut facade#1709\"\u001b[39m,\n",
       "  \u001b[32m\"Simena#IIID#1#NA#Lycian sarcophagus, rock-cut facade#1704\"\u001b[39m,\n",
       "  \u001b[32m\"Kyanai#IIID#1#NA#Lycian sarcophagus, rock-cut facade#1707\"\u001b[39m,\n",
       "  \u001b[32m\"Antiphellos#IIID#1#NA#Lycian sarcophagus, rock-cut facade#1667\"\u001b[39m,\n",
       "  \u001b[32m\"Myra#IVB/C#1#NA#House tomb of Greek type, partially freestanding or with chamber#1697\"\u001b[39m,\n",
       "  \u001b[32m\"Cagman#IIA#1#NA#House tomb, free standing#1763\"\u001b[39m,\n",
       "  \u001b[32m\"Kadyanda#IIA#1#NA#House tomb, free standing#1673\"\u001b[39m,\n",
       "  \u001b[32m\"Isinda#IIA#1#NA#House tomb, free standing#1705\"\u001b[39m,\n",
       "  \u001b[32m\"Arneai#IIA#1#NA#House tomb, free standing#1670\"\u001b[39m,\n",
       "  \u001b[32m\"Rhodiapolis#IIB/C#1#NA#House tomb, partially freestanding or with chamber#1703\"\u001b[39m,\n",
       "  \u001b[32m\"Pinara#IIB/C#6#NA#House tomb, partially freestanding or with chamber#1696\"\u001b[39m,\n",
       "  \u001b[32m\"Phellos#IIB/C#13#NA#House tomb, partially freestanding or with chamber#1699\"\u001b[39m,\n",
       "  \u001b[32m\"Cavdir-Turuncova#IIB/C#2#NA#House tomb, partially freestanding or with chambe\u001b[39m...\n",
       "\u001b[36mres1_2\u001b[39m: \u001b[32mInt\u001b[39m = \u001b[32m151\u001b[39m"
      ]
     },
     "execution_count": 2,
     "metadata": {},
     "output_type": "execute_result"
    }
   ],
   "source": [
    "import scala.io.Source\n",
    "val lines = Source.fromURL(url).getLines.toVector\n",
    "lines.size"
   ]
  },
  {
   "cell_type": "code",
   "execution_count": 4,
   "metadata": {},
   "outputs": [
    {
     "data": {
      "text/plain": [
       "\u001b[36mbyColumns\u001b[39m: \u001b[32mVector\u001b[39m[\u001b[32mVector\u001b[39m[\u001b[32mString\u001b[39m]] = \u001b[33mVector\u001b[39m(\n",
       "  \u001b[33mVector\u001b[39m(\u001b[32m\"sitename\"\u001b[39m, \u001b[32m\"ztype\"\u001b[39m, \u001b[32m\"tombcount\"\u001b[39m, \u001b[32m\"comments\"\u001b[39m, \u001b[32m\"ztypetext\"\u001b[39m, \u001b[32m\"rageid\"\u001b[39m),\n",
       "  \u001b[33mVector\u001b[39m(\n",
       "    \u001b[32m\"Antiphellos\"\u001b[39m,\n",
       "    \u001b[32m\"IID\"\u001b[39m,\n",
       "    \u001b[32m\"17\"\u001b[39m,\n",
       "    \u001b[32m\"NA\"\u001b[39m,\n",
       "    \u001b[32m\"House tomb, rock-cut facade\"\u001b[39m,\n",
       "    \u001b[32m\"1667\"\u001b[39m\n",
       "  ),\n",
       "  \u001b[33mVector\u001b[39m(\n",
       "    \u001b[32m\"Pinara\"\u001b[39m,\n",
       "    \u001b[32m\"IIIA\"\u001b[39m,\n",
       "    \u001b[32m\"2\"\u001b[39m,\n",
       "    \u001b[32m\"NA\"\u001b[39m,\n",
       "    \u001b[32m\"Lycian sarcophagus, free standing\"\u001b[39m,\n",
       "    \u001b[32m\"1696\"\u001b[39m\n",
       "  ),\n",
       "  \u001b[33mVector\u001b[39m(\n",
       "    \u001b[32m\"Delicedere\"\u001b[39m,\n",
       "    \u001b[32m\"IIIA\"\u001b[39m,\n",
       "    \u001b[32m\"1\"\u001b[39m,\n",
       "    \u001b[32m\"NA\"\u001b[39m,\n",
       "    \u001b[32m\"Lycian sarcophagus, free standing\"\u001b[39m,\n",
       "    \u001b[32m\"NA\"\u001b[39m\n",
       "  ),\n",
       "  \u001b[33mVector\u001b[39m(\n",
       "    \u001b[32m\"Xanthos\"\u001b[39m,\n",
       "    \u001b[32m\"IIIA\"\u001b[39m,\n",
       "    \u001b[32m\"9\"\u001b[39m,\n",
       "    \u001b[32m\"NA\"\u001b[39m,\n",
       "    \u001b[32m\"Lycian sarcophagus, free standing\"\u001b[39m,\n",
       "    \u001b[32m\"1694\"\u001b[39m\n",
       "  ),\n",
       "  \u001b[33mVector\u001b[39m(\u001b[32m\"Tlos\"\u001b[39m, \u001b[32m\"IIIA\"\u001b[39m, \u001b[32m\"5\"\u001b[39m, \u001b[32m\"NA\"\u001b[39m, \u001b[32m\"Lycian sarcophagus, free standing\"\u001b[39m, \u001b[32m\"1695\"\u001b[39m),\n",
       "  \u001b[33mVector\u001b[39m(\n",
       "    \u001b[32m\"Telmessos\"\u001b[39m,\n",
       "    \u001b[32m\"IIIA\"\u001b[39m,\n",
       "...\n",
       "\u001b[36mres3_1\u001b[39m: \u001b[32mInt\u001b[39m = \u001b[32m151\u001b[39m"
      ]
     },
     "execution_count": 4,
     "metadata": {},
     "output_type": "execute_result"
    }
   ],
   "source": [
    "val byColumns = lines.map(ln => ln.split(\"#\").toVector)\n",
    "byColumns.size"
   ]
  },
  {
   "cell_type": "code",
   "execution_count": 8,
   "metadata": {},
   "outputs": [
    {
     "data": {
      "text/plain": [
       "\u001b[36mtombcount\u001b[39m: \u001b[32mVector\u001b[39m[\u001b[32mString\u001b[39m] = \u001b[33mVector\u001b[39m(\n",
       "  \u001b[32m\"tombcount\"\u001b[39m,\n",
       "  \u001b[32m\"17\"\u001b[39m,\n",
       "  \u001b[32m\"2\"\u001b[39m,\n",
       "  \u001b[32m\"1\"\u001b[39m,\n",
       "  \u001b[32m\"9\"\u001b[39m,\n",
       "  \u001b[32m\"5\"\u001b[39m,\n",
       "  \u001b[32m\"1\"\u001b[39m,\n",
       "  \u001b[32m\"4\"\u001b[39m,\n",
       "  \u001b[32m\"3\"\u001b[39m,\n",
       "  \u001b[32m\"1\"\u001b[39m,\n",
       "  \u001b[32m\"1\"\u001b[39m,\n",
       "  \u001b[32m\"1\"\u001b[39m,\n",
       "  \u001b[32m\"5\"\u001b[39m,\n",
       "  \u001b[32m\"2\"\u001b[39m,\n",
       "  \u001b[32m\"1\"\u001b[39m,\n",
       "  \u001b[32m\"1\"\u001b[39m,\n",
       "  \u001b[32m\"1\"\u001b[39m,\n",
       "  \u001b[32m\"1\"\u001b[39m,\n",
       "  \u001b[32m\"1\"\u001b[39m,\n",
       "  \u001b[32m\"1\"\u001b[39m,\n",
       "  \u001b[32m\"1\"\u001b[39m,\n",
       "  \u001b[32m\"2\"\u001b[39m,\n",
       "  \u001b[32m\"3\"\u001b[39m,\n",
       "  \u001b[32m\"1\"\u001b[39m,\n",
       "  \u001b[32m\"1\"\u001b[39m,\n",
       "  \u001b[32m\"1\"\u001b[39m,\n",
       "  \u001b[32m\"1\"\u001b[39m,\n",
       "  \u001b[32m\"1\"\u001b[39m,\n",
       "  \u001b[32m\"1\"\u001b[39m,\n",
       "  \u001b[32m\"1\"\u001b[39m,\n",
       "  \u001b[32m\"1\"\u001b[39m,\n",
       "  \u001b[32m\"1\"\u001b[39m,\n",
       "  \u001b[32m\"1\"\u001b[39m,\n",
       "  \u001b[32m\"6\"\u001b[39m,\n",
       "  \u001b[32m\"13\"\u001b[39m,\n",
       "  \u001b[32m\"2\"\u001b[39m,\n",
       "  \u001b[32m\"17\"\u001b[39m,\n",
       "  \u001b[32m\"2\"\u001b[39m,\n",
       "...\n",
       "\u001b[36mres7_1\u001b[39m: \u001b[32mInt\u001b[39m = \u001b[32m151\u001b[39m"
      ]
     },
     "execution_count": 8,
     "metadata": {},
     "output_type": "execute_result"
    }
   ],
   "source": [
    "val tombcount = byColumns.map(columns => columns(2))\n",
    "tombcount.size"
   ]
  },
  {
   "cell_type": "code",
   "execution_count": 11,
   "metadata": {},
   "outputs": [
    {
     "data": {
      "text/plain": [
       "\u001b[36mCountTail\u001b[39m: \u001b[32mVector\u001b[39m[\u001b[32mString\u001b[39m] = \u001b[33mVector\u001b[39m(\n",
       "  \u001b[32m\"17\"\u001b[39m,\n",
       "  \u001b[32m\"2\"\u001b[39m,\n",
       "  \u001b[32m\"1\"\u001b[39m,\n",
       "  \u001b[32m\"9\"\u001b[39m,\n",
       "  \u001b[32m\"5\"\u001b[39m,\n",
       "  \u001b[32m\"1\"\u001b[39m,\n",
       "  \u001b[32m\"4\"\u001b[39m,\n",
       "  \u001b[32m\"3\"\u001b[39m,\n",
       "  \u001b[32m\"1\"\u001b[39m,\n",
       "  \u001b[32m\"1\"\u001b[39m,\n",
       "  \u001b[32m\"1\"\u001b[39m,\n",
       "  \u001b[32m\"5\"\u001b[39m,\n",
       "  \u001b[32m\"2\"\u001b[39m,\n",
       "  \u001b[32m\"1\"\u001b[39m,\n",
       "  \u001b[32m\"1\"\u001b[39m,\n",
       "  \u001b[32m\"1\"\u001b[39m,\n",
       "  \u001b[32m\"1\"\u001b[39m,\n",
       "  \u001b[32m\"1\"\u001b[39m,\n",
       "  \u001b[32m\"1\"\u001b[39m,\n",
       "  \u001b[32m\"1\"\u001b[39m,\n",
       "  \u001b[32m\"2\"\u001b[39m,\n",
       "  \u001b[32m\"3\"\u001b[39m,\n",
       "  \u001b[32m\"1\"\u001b[39m,\n",
       "  \u001b[32m\"1\"\u001b[39m,\n",
       "  \u001b[32m\"1\"\u001b[39m,\n",
       "  \u001b[32m\"1\"\u001b[39m,\n",
       "  \u001b[32m\"1\"\u001b[39m,\n",
       "  \u001b[32m\"1\"\u001b[39m,\n",
       "  \u001b[32m\"1\"\u001b[39m,\n",
       "  \u001b[32m\"1\"\u001b[39m,\n",
       "  \u001b[32m\"1\"\u001b[39m,\n",
       "  \u001b[32m\"1\"\u001b[39m,\n",
       "  \u001b[32m\"6\"\u001b[39m,\n",
       "  \u001b[32m\"13\"\u001b[39m,\n",
       "  \u001b[32m\"2\"\u001b[39m,\n",
       "  \u001b[32m\"17\"\u001b[39m,\n",
       "  \u001b[32m\"2\"\u001b[39m,\n",
       "  \u001b[32m\"8\"\u001b[39m,\n",
       "...\n",
       "\u001b[36mres10_1\u001b[39m: \u001b[32mInt\u001b[39m = \u001b[32m150\u001b[39m"
      ]
     },
     "execution_count": 11,
     "metadata": {},
     "output_type": "execute_result"
    }
   ],
   "source": [
    "val CountTail = tombcount.tail\n",
    "tombCountInt.size"
   ]
  },
  {
   "cell_type": "code",
   "execution_count": 15,
   "metadata": {},
   "outputs": [
    {
     "data": {
      "text/plain": [
       "\u001b[36mtombCountInt\u001b[39m: \u001b[32mVector\u001b[39m[\u001b[32mInt\u001b[39m] = \u001b[33mVector\u001b[39m(\n",
       "  \u001b[32m17\u001b[39m,\n",
       "  \u001b[32m2\u001b[39m,\n",
       "  \u001b[32m1\u001b[39m,\n",
       "  \u001b[32m9\u001b[39m,\n",
       "  \u001b[32m5\u001b[39m,\n",
       "  \u001b[32m1\u001b[39m,\n",
       "  \u001b[32m4\u001b[39m,\n",
       "  \u001b[32m3\u001b[39m,\n",
       "  \u001b[32m1\u001b[39m,\n",
       "  \u001b[32m1\u001b[39m,\n",
       "  \u001b[32m1\u001b[39m,\n",
       "  \u001b[32m5\u001b[39m,\n",
       "  \u001b[32m2\u001b[39m,\n",
       "  \u001b[32m1\u001b[39m,\n",
       "  \u001b[32m1\u001b[39m,\n",
       "  \u001b[32m1\u001b[39m,\n",
       "  \u001b[32m1\u001b[39m,\n",
       "  \u001b[32m1\u001b[39m,\n",
       "  \u001b[32m1\u001b[39m,\n",
       "  \u001b[32m1\u001b[39m,\n",
       "  \u001b[32m2\u001b[39m,\n",
       "  \u001b[32m3\u001b[39m,\n",
       "  \u001b[32m1\u001b[39m,\n",
       "  \u001b[32m1\u001b[39m,\n",
       "  \u001b[32m1\u001b[39m,\n",
       "  \u001b[32m1\u001b[39m,\n",
       "  \u001b[32m1\u001b[39m,\n",
       "  \u001b[32m1\u001b[39m,\n",
       "  \u001b[32m1\u001b[39m,\n",
       "  \u001b[32m1\u001b[39m,\n",
       "  \u001b[32m1\u001b[39m,\n",
       "  \u001b[32m1\u001b[39m,\n",
       "  \u001b[32m6\u001b[39m,\n",
       "  \u001b[32m13\u001b[39m,\n",
       "  \u001b[32m2\u001b[39m,\n",
       "  \u001b[32m17\u001b[39m,\n",
       "  \u001b[32m2\u001b[39m,\n",
       "  \u001b[32m8\u001b[39m,\n",
       "..."
      ]
     },
     "execution_count": 15,
     "metadata": {},
     "output_type": "execute_result"
    }
   ],
   "source": [
    "val tombCountInt = CountTail.map(s => s.toInt)"
   ]
  },
  {
   "cell_type": "code",
   "execution_count": 16,
   "metadata": {},
   "outputs": [
    {
     "data": {
      "text/plain": [
       "\u001b[36mres15\u001b[39m: \u001b[32mInt\u001b[39m = \u001b[32m1085\u001b[39m"
      ]
     },
     "execution_count": 16,
     "metadata": {},
     "output_type": "execute_result"
    }
   ],
   "source": [
    "tombCountInt.sum"
   ]
  }
 ],
 "metadata": {
  "kernelspec": {
   "display_name": "Scala (2.12)",
   "language": "scala",
   "name": "scala212"
  },
  "language_info": {
   "codemirror_mode": "text/x-scala",
   "file_extension": ".scala",
   "mimetype": "text/x-scala",
   "name": "scala",
   "nbconvert_exporter": "script",
   "version": "2.12.10"
  }
 },
 "nbformat": 4,
 "nbformat_minor": 4
}
